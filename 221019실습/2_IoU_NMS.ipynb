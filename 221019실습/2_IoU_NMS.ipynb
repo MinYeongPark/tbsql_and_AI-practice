{
  "nbformat": 4,
  "nbformat_minor": 0,
  "metadata": {
    "colab": {
      "provenance": [],
      "collapsed_sections": [],
      "authorship_tag": "ABX9TyORm6Iz8eVe0assu0kcAush",
      "include_colab_link": true
    },
    "kernelspec": {
      "name": "python3",
      "display_name": "Python 3"
    },
    "language_info": {
      "name": "python"
    }
  },
  "cells": [
    {
      "cell_type": "markdown",
      "metadata": {
        "id": "view-in-github",
        "colab_type": "text"
      },
      "source": [
        "<a href=\"https://colab.research.google.com/github/MinYeongPark/AI_practice/blob/main/2_IoU_NMS.ipynb\" target=\"_parent\"><img src=\"https://colab.research.google.com/assets/colab-badge.svg\" alt=\"Open In Colab\"/></a>"
      ]
    },
    {
      "cell_type": "markdown",
      "source": [
        "IoU"
      ],
      "metadata": {
        "id": "mh0WYAf4mI1i"
      }
    },
    {
      "cell_type": "code",
      "execution_count": null,
      "metadata": {
        "id": "vugvaN4JmIMu"
      },
      "outputs": [],
      "source": [
        "# 이 정도 코드는 알고 있으면 좋겠다고 하심.\n",
        "def IoU(bbox1, bbox2) :\n",
        "    # bbox1 = [x1, y1, x2, y2]\n",
        "    # bbox2 = [x1, y1, x2, y2]\n",
        "    intersection_x1 = max(bbox1[0], bbox2[0])\n",
        "    intersection_y1 = max(bbox1[1], bbox2[1])\n",
        "    intersection_x2 = min(bbox1[2], bbox2[2])\n",
        "    intersection_y2 = min(bbox1[3], bbox2[3])\n",
        "\n",
        "    intersection = max(intersection_x2 - intersection_x1, 0) * max(intersection_y2-intersection_y1, 0)\n",
        "\n",
        "    box1_area = abs(bbox1[2] - bbox1[0]) * abs(bbox1[3] - bbox1[1])\n",
        "    box2_area = abs(bbox2[2] - bbox2[0]) * abs(bbox2[3] - bbox2[1])\n",
        "\n",
        "    area = box1_area + box2_area - intersection\n",
        "\n",
        "    return intersection / area"
      ]
    },
    {
      "cell_type": "markdown",
      "source": [
        "NMS"
      ],
      "metadata": {
        "id": "KABsfsKhsSGr"
      }
    },
    {
      "cell_type": "code",
      "source": [
        "# https://deep-learning-study.tistory.com/403 에 있는 코드\n",
        "# predicted_box = [ (class), (confidence_score), x1 , y1 , x2 , y2 ]\n",
        "threshold = 0.5\n",
        "bboxes =  [bbox for box in bboxes if box[1] > threshold] # box의 첫번째 인덱스가 0.5 이상인 것만 리스트로 만들어둬라.\n",
        "\n",
        "# 내림차순 정리\n",
        "bboxes = sorted(bboxes, key=lambda x: x[1], reverse=True)\n",
        "\n",
        "bboxes_atfer_nms = []\n",
        "iou_threshold = 0.4\n",
        "while bboxes :\n",
        "    chosen_box = bboxes.pop(0) # 가장 높은 것 뺌\n",
        "\n",
        "    bboxes = [\n",
        "        box\n",
        "        for box in bboxes\n",
        "        if box[0] != chosen_box[0] # 같지 않거나 iou가 선택한 박스랑\n",
        "        or IoU(chosen_box[2: ], bbox[2: ]) < iou_threshold\n",
        "    ]\n",
        "\n",
        "    bboxes_after_nms.append(chosen_box)\n",
        "\n",
        "return bboxes_after_nms"
      ],
      "metadata": {
        "colab": {
          "base_uri": "https://localhost:8080/",
          "height": 251
        },
        "id": "ZLExr6NxsWjn",
        "outputId": "8ef60abf-7951-4901-f129-2a8197afa9bd"
      },
      "execution_count": null,
      "outputs": [
        {
          "output_type": "error",
          "ename": "NameError",
          "evalue": "ignored",
          "traceback": [
            "\u001b[0;31m---------------------------------------------------------------------------\u001b[0m",
            "\u001b[0;31mNameError\u001b[0m                                 Traceback (most recent call last)",
            "\u001b[0;32m<ipython-input-4-0bdeac69f9b3>\u001b[0m in \u001b[0;36m<module>\u001b[0;34m\u001b[0m\n\u001b[1;32m      1\u001b[0m \u001b[0;31m# predicted_box = [ (class), (confidence_score), x1 , y1 , x2 , y2 ]\u001b[0m\u001b[0;34m\u001b[0m\u001b[0;34m\u001b[0m\u001b[0;34m\u001b[0m\u001b[0m\n\u001b[1;32m      2\u001b[0m \u001b[0mthreshold\u001b[0m \u001b[0;34m=\u001b[0m \u001b[0;36m0.5\u001b[0m\u001b[0;34m\u001b[0m\u001b[0;34m\u001b[0m\u001b[0m\n\u001b[0;32m----> 3\u001b[0;31m \u001b[0mbboxes\u001b[0m \u001b[0;34m=\u001b[0m  \u001b[0;34m[\u001b[0m\u001b[0mbbox\u001b[0m \u001b[0;32mfor\u001b[0m \u001b[0mbox\u001b[0m \u001b[0;32min\u001b[0m \u001b[0mbboxes\u001b[0m \u001b[0;32mif\u001b[0m \u001b[0mbox\u001b[0m\u001b[0;34m[\u001b[0m\u001b[0;36m1\u001b[0m\u001b[0;34m]\u001b[0m \u001b[0;34m>\u001b[0m \u001b[0mthreshold\u001b[0m\u001b[0;34m]\u001b[0m \u001b[0;31m# box의 첫번째 인덱스가 0.5 이상인 것만 리스트로 만들어두라.\u001b[0m\u001b[0;34m\u001b[0m\u001b[0;34m\u001b[0m\u001b[0m\n\u001b[0m\u001b[1;32m      4\u001b[0m \u001b[0;34m\u001b[0m\u001b[0m\n\u001b[1;32m      5\u001b[0m \u001b[0;31m# 내림차순 정리\u001b[0m\u001b[0;34m\u001b[0m\u001b[0;34m\u001b[0m\u001b[0;34m\u001b[0m\u001b[0m\n",
            "\u001b[0;31mNameError\u001b[0m: name 'bboxes' is not defined"
          ]
        }
      ]
    },
    {
      "cell_type": "code",
      "source": [],
      "metadata": {
        "id": "rpc4xj6dxOEB"
      },
      "execution_count": null,
      "outputs": []
    }
  ]
}