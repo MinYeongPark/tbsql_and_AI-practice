{
  "cells": [
    {
      "cell_type": "markdown",
      "metadata": {
        "id": "view-in-github",
        "colab_type": "text"
      },
      "source": [
        "<a href=\"https://colab.research.google.com/github/MinYeongPark/AI_practice/blob/main/221017%EC%8B%A4%EC%8A%B5_3_%EC%9D%B8%EA%B3%B5_%EC%8B%A0%EA%B2%BD%EB%A7%9D%EC%9D%84_%ED%95%99%EC%8A%B5%ED%95%98%EB%8A%94_%EB%B0%A9%EB%B2%95(%EC%97%AD%EC%A0%84%ED%8C%8C).ipynb.ipynb\" target=\"_parent\"><img src=\"https://colab.research.google.com/assets/colab-badge.svg\" alt=\"Open In Colab\"/></a>"
      ]
    },
    {
      "cell_type": "code",
      "execution_count": null,
      "id": "d1bdff2c",
      "metadata": {
        "id": "d1bdff2c"
      },
      "outputs": [],
      "source": [
        "import numpy as np\n",
        "import pandas as pd\n",
        "\n",
        "import torch\n",
        "import torch.nn as nn"
      ]
    },
    {
      "cell_type": "markdown",
      "id": "9e1c89a6",
      "metadata": {
        "id": "9e1c89a6"
      },
      "source": [
        "### 역전파 : 가중치 업데이트"
      ]
    },
    {
      "cell_type": "code",
      "execution_count": null,
      "id": "5bf91957",
      "metadata": {
        "id": "5bf91957",
        "outputId": "c8715b52-dc7a-4b66-d2b3-411ecec14ac9"
      },
      "outputs": [
        {
          "data": {
            "text/plain": [
              "tensor([[-0.4318,  0.0749],\n",
              "        [-0.1667, -1.6542]])"
            ]
          },
          "execution_count": 17,
          "metadata": {},
          "output_type": "execute_result"
        }
      ],
      "source": [
        "torch.manual_seed(1017) \n",
        "\n",
        "inputs = torch.randn(2, 2) # 2행 2열로 이루어진 데이터를 임시로 생성\n",
        "inputs"
      ]
    },
    {
      "cell_type": "code",
      "execution_count": null,
      "id": "27fa05c7",
      "metadata": {
        "id": "27fa05c7",
        "outputId": "f0d4c7cb-1c96-4556-9982-79f41a3aad3d"
      },
      "outputs": [
        {
          "data": {
            "text/plain": [
              "tensor([-0.4015, -0.5934])"
            ]
          },
          "execution_count": 16,
          "metadata": {},
          "output_type": "execute_result"
        }
      ],
      "source": [
        "torch.manual_seed(777) \n",
        "\n",
        "targets = torch.randn(2) # 각 행마다 해당하는 label을 생성\n",
        "targets"
      ]
    },
    {
      "cell_type": "code",
      "execution_count": null,
      "id": "cce63115",
      "metadata": {
        "id": "cce63115",
        "outputId": "bcfb7924-2031-4849-d437-083bd8b2c680"
      },
      "outputs": [
        {
          "data": {
            "text/plain": [
              "Parameter containing:\n",
              "tensor([[0.4371, 0.3060]], requires_grad=True)"
            ]
          },
          "execution_count": 35,
          "metadata": {},
          "output_type": "execute_result"
        }
      ],
      "source": [
        "# 사용할 네트워크를 생성\n",
        "\n",
        "torch.manual_seed(1017)\n",
        "\n",
        "total_network = nn.Sequential(  \n",
        "    nn.Linear(2, 1), \n",
        "    nn.Sigmoid()\n",
        ")\n",
        "\n",
        "total_network[0].weight"
      ]
    },
    {
      "cell_type": "code",
      "execution_count": null,
      "id": "044294f8",
      "metadata": {
        "id": "044294f8"
      },
      "outputs": [],
      "source": [
        "# 가중치 업데이트에 필요한 요소들 설정 : 뒤에가서 하나씩 살펴볼 예정, 지금은 이런게 있어야 업데이트가 되는구나 정도로 이해\n",
        "learning_rate = 0.001\n",
        "criterion = nn.MSELoss() # MSE : 정답과의 차이를 제곱\n",
        "optimizer = torch.optim.Adam(total_network.parameters(), lr=learning_rate)"
      ]
    },
    {
      "cell_type": "code",
      "execution_count": null,
      "id": "bd7fe070",
      "metadata": {
        "id": "bd7fe070",
        "outputId": "5a9a93d1-9ca3-49b3-e3b4-4517cbdd739a"
      },
      "outputs": [
        {
          "name": "stdout",
          "output_type": "stream",
          "text": [
            "tensor([[0.5068],\n",
            "        [0.4047]], grad_fn=<SigmoidBackward0>)\n",
            "tensor(1.4082, grad_fn=<MseLossBackward0>)\n"
          ]
        }
      ],
      "source": [
        "total_network.train() # 만들어진 네트워크를 학습 모드로 설정\n",
        "\n",
        "pred = total_network(inputs) # 네트워크에 아까 생성해 두었던 2행 2열의 데이터를 입력\n",
        "print(pred) # 입력값은 행별로 들어가고, 이에 대한 network의 결과를 출력\n",
        "\n",
        "loss = criterion(inputs, pred) # network의 결과를 실제 label과 비교하여 loss를 구함\n",
        "print(loss)"
      ]
    },
    {
      "cell_type": "code",
      "execution_count": null,
      "id": "661e4f53",
      "metadata": {
        "id": "661e4f53"
      },
      "outputs": [],
      "source": [
        "loss.backward() # loss값을 참고하여 각 가중치에 대해 편미분 \n",
        "optimizer.step() # 편미분된 값과 학습률을 통해 한 스텝 최적화"
      ]
    },
    {
      "cell_type": "code",
      "execution_count": null,
      "id": "fc6a1264",
      "metadata": {
        "id": "fc6a1264",
        "outputId": "739b9e66-ab96-4f9a-ba82-38624b392e0e"
      },
      "outputs": [
        {
          "data": {
            "text/plain": [
              "Parameter containing:\n",
              "tensor([[0.4381, 0.3070]], requires_grad=True)"
            ]
          },
          "execution_count": 39,
          "metadata": {},
          "output_type": "execute_result"
        }
      ],
      "source": [
        "total_network[0].weight # 한번 역전파가 이루어지고 나서 모델의 가중치가 업데이트 된걸 확인 가능\n",
        "                        # 첫번째 층?을 가리키기 위해 0이라고 둠"
      ]
    },
    {
      "cell_type": "code",
      "execution_count": null,
      "id": "ea817a38",
      "metadata": {
        "id": "ea817a38",
        "outputId": "7e5e2470-e358-487a-c590-5c9cc51598e4"
      },
      "outputs": [
        {
          "name": "stdout",
          "output_type": "stream",
          "text": [
            "tensor([[0.5064],\n",
            "        [0.4040]], grad_fn=<SigmoidBackward0>)\n",
            "tensor(1.4071, grad_fn=<MseLossBackward0>)\n"
          ]
        }
      ],
      "source": [
        "pred = total_network(inputs) \n",
        "print(pred)\n",
        "\n",
        "loss = criterion(inputs, pred) \n",
        "print(loss) # 한번 역전파가 이루어지고 나서 loss가 줄어 들은 것을 확인 "
      ]
    },
    {
      "cell_type": "code",
      "execution_count": null,
      "id": "8b7d9af8",
      "metadata": {
        "id": "8b7d9af8"
      },
      "outputs": [],
      "source": []
    },
    {
      "cell_type": "code",
      "execution_count": null,
      "id": "f1b557a1",
      "metadata": {
        "id": "f1b557a1"
      },
      "outputs": [],
      "source": [
        "# optimizer와 loss function에 대한 차이는 이후에"
      ]
    }
  ],
  "metadata": {
    "kernelspec": {
      "display_name": "taeoowl",
      "language": "python",
      "name": "taeoowl"
    },
    "language_info": {
      "codemirror_mode": {
        "name": "ipython",
        "version": 3
      },
      "file_extension": ".py",
      "mimetype": "text/x-python",
      "name": "python",
      "nbconvert_exporter": "python",
      "pygments_lexer": "ipython3",
      "version": "3.7.11"
    },
    "colab": {
      "provenance": [],
      "include_colab_link": true
    }
  },
  "nbformat": 4,
  "nbformat_minor": 5
}