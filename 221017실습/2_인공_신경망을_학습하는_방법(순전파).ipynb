{
  "cells": [
    {
      "cell_type": "markdown",
      "metadata": {
        "id": "view-in-github",
        "colab_type": "text"
      },
      "source": [
        "<a href=\"https://colab.research.google.com/github/MinYeongPark/AI_practice/blob/main/221017%EC%8B%A4%EC%8A%B5_2_%EC%9D%B8%EA%B3%B5_%EC%8B%A0%EA%B2%BD%EB%A7%9D%EC%9D%84_%ED%95%99%EC%8A%B5%ED%95%98%EB%8A%94_%EB%B0%A9%EB%B2%95(%EC%88%9C%EC%A0%84%ED%8C%8C).ipynb\" target=\"_parent\"><img src=\"https://colab.research.google.com/assets/colab-badge.svg\" alt=\"Open In Colab\"/></a>"
      ]
    },
    {
      "cell_type": "code",
      "execution_count": null,
      "id": "4a968268",
      "metadata": {
        "id": "4a968268"
      },
      "outputs": [],
      "source": [
        "import numpy as np\n",
        "import pandas as pd\n",
        "\n",
        "import torch\n",
        "import torch.nn as nn"
      ]
    },
    {
      "cell_type": "markdown",
      "id": "d67e7fa1",
      "metadata": {
        "id": "d67e7fa1"
      },
      "source": [
        "### 순전파 실습 : 가중치 부여와 가중합 계산"
      ]
    },
    {
      "cell_type": "code",
      "execution_count": null,
      "id": "c4a2768f",
      "metadata": {
        "id": "c4a2768f"
      },
      "outputs": [],
      "source": [
        "torch.manual_seed(1017)\n",
        "\n",
        "network = nn.Linear(in_features=3, out_features=7) \n",
        "# 입력으로 길이가 3인 텐서를 받고(in_features), 이를 길이가 7인 tensor로 출력하는(out_features) 인공 신경망"
      ]
    },
    {
      "cell_type": "code",
      "execution_count": null,
      "id": "77c7b2d6",
      "metadata": {
        "id": "77c7b2d6",
        "outputId": "31370eab-8edf-45fc-9a11-d07e98d69033"
      },
      "outputs": [
        {
          "data": {
            "text/plain": [
              "tensor([-0.4318,  0.0749, -0.1667])"
            ]
          },
          "execution_count": 70,
          "metadata": {},
          "output_type": "execute_result"
        }
      ],
      "source": [
        "torch.manual_seed(1017) # colab 환경이기 때문에 셀별로 seed를 지정해 주어야 값이 변하지 않음\n",
        "\n",
        "inputs = torch.randn(3) # 예시를 들기 위해 값이 랜덤이고 길이가 3인 텐서를 생성\n",
        "inputs"
      ]
    },
    {
      "cell_type": "code",
      "execution_count": null,
      "id": "3a6937b2",
      "metadata": {
        "id": "3a6937b2",
        "outputId": "23b3c872-0cb2-4162-dfb4-078c29df2ea3"
      },
      "outputs": [
        {
          "data": {
            "text/plain": [
              "tensor([ 0.0314,  0.3959, -0.4911,  0.4519,  0.2199, -0.2257,  0.4324],\n",
              "       grad_fn=<AddBackward0>)"
            ]
          },
          "execution_count": 73,
          "metadata": {},
          "output_type": "execute_result"
        }
      ],
      "source": [
        "network(inputs) # 만들어놓은 입력값이 인공 신경망을 통과해서 결과값을 출력\n",
        "\n",
        "# -> 위 값은 어떻게 출력된걸까?"
      ]
    },
    {
      "cell_type": "code",
      "execution_count": null,
      "id": "5fb03cfb",
      "metadata": {
        "id": "5fb03cfb",
        "outputId": "d1eac983-3957-48fe-b63e-0071d8eeb590"
      },
      "outputs": [
        {
          "data": {
            "text/plain": [
              "Parameter containing:\n",
              "tensor([[ 0.3569,  0.2498,  0.1576],\n",
              "        [-0.4434, -0.4714,  0.0233],\n",
              "        [ 0.2524,  0.3831, -0.0351],\n",
              "        [-0.2784, -0.3108, -0.5440],\n",
              "        [ 0.5353,  0.4227,  0.3971],\n",
              "        [-0.1924,  0.5192, -0.1625],\n",
              "        [ 0.2561,  0.5234,  0.3877]], requires_grad=True)"
            ]
          },
          "execution_count": 60,
          "metadata": {},
          "output_type": "execute_result"
        }
      ],
      "source": [
        "network.weight # 초기 가중치를 확인"
      ]
    },
    {
      "cell_type": "code",
      "execution_count": null,
      "id": "f4ba3693",
      "metadata": {
        "id": "f4ba3693",
        "outputId": "f10d5bfc-94a9-4aea-c9e9-552677f5b385"
      },
      "outputs": [
        {
          "data": {
            "text/plain": [
              "tensor(-0.1617, grad_fn=<SumBackward0>)"
            ]
          },
          "execution_count": 62,
          "metadata": {},
          "output_type": "execute_result"
        }
      ],
      "source": [
        "torch.sum(inputs * network.weight[0]) # 0.0314가 나와야하는데 값이 다르게 출력되고 있다"
      ]
    },
    {
      "cell_type": "code",
      "execution_count": null,
      "id": "41800011",
      "metadata": {
        "id": "41800011",
        "outputId": "8e3c9ee7-1736-4594-a3b4-7fdb8668d176"
      },
      "outputs": [
        {
          "data": {
            "text/plain": [
              "Linear(in_features=3, out_features=7, bias=True)"
            ]
          },
          "execution_count": 63,
          "metadata": {},
          "output_type": "execute_result"
        }
      ],
      "source": [
        "network # network를 확인해보니 bias 인자의 기본값이 True로 지정되어 있음을 확인"
      ]
    },
    {
      "cell_type": "code",
      "execution_count": null,
      "id": "bb61402e",
      "metadata": {
        "id": "bb61402e",
        "outputId": "fe91c5d8-ef8c-4d52-9ccc-9c4cc32c47ac"
      },
      "outputs": [
        {
          "data": {
            "text/plain": [
              "Parameter containing:\n",
              "tensor([[ 0.3569,  0.2498,  0.1576],\n",
              "        [-0.4434, -0.4714,  0.0233],\n",
              "        [ 0.2524,  0.3831, -0.0351],\n",
              "        [-0.2784, -0.3108, -0.5440],\n",
              "        [ 0.5353,  0.4227,  0.3971],\n",
              "        [-0.1924,  0.5192, -0.1625],\n",
              "        [ 0.2561,  0.5234,  0.3877]], requires_grad=True)"
            ]
          },
          "execution_count": 67,
          "metadata": {},
          "output_type": "execute_result"
        }
      ],
      "source": [
        "torch.manual_seed(1017)\n",
        "\n",
        "network_nobias = nn.Linear(in_features=3, out_features=7, bias=False) # 다른 값은 그대로 둔 채 bias만 False로 두고 인공 신경망을 다시 생성\n",
        "network_nobias.weight # bias 없이 다시 생성된 인공 신경망의 가중치를 확인"
      ]
    },
    {
      "cell_type": "code",
      "execution_count": null,
      "id": "cf104dbc",
      "metadata": {
        "id": "cf104dbc",
        "outputId": "4fea4321-9d57-4c5f-c729-8d745c6d9bc3"
      },
      "outputs": [
        {
          "data": {
            "text/plain": [
              "tensor([-0.1617,  0.1523, -0.0745,  0.1876, -0.2657,  0.1490, -0.1361],\n",
              "       grad_fn=<SqueezeBackward3>)"
            ]
          },
          "execution_count": 68,
          "metadata": {},
          "output_type": "execute_result"
        }
      ],
      "source": [
        "network_nobias(inputs)"
      ]
    },
    {
      "cell_type": "code",
      "execution_count": null,
      "id": "b28b97d4",
      "metadata": {
        "id": "b28b97d4",
        "outputId": "4e72482f-6212-47d8-8b71-238532283288"
      },
      "outputs": [
        {
          "data": {
            "text/plain": [
              "tensor(-0.1617, grad_fn=<SumBackward0>)"
            ]
          },
          "execution_count": 66,
          "metadata": {},
          "output_type": "execute_result"
        }
      ],
      "source": [
        "torch.sum(inputs * network.weight[0]) # bias가 없는 경우에는 입력과 가중치의 곱이 네트워크의 출력과 제대로 들어맞는 것을 확인 가능"
      ]
    },
    {
      "cell_type": "code",
      "execution_count": null,
      "id": "fb9bc3f3",
      "metadata": {
        "id": "fb9bc3f3",
        "outputId": "3a9c389a-0b58-48bf-f511-0caeefcb68e4"
      },
      "outputs": [
        {
          "data": {
            "text/plain": [
              "tensor(0.1931, grad_fn=<SubBackward0>)"
            ]
          },
          "execution_count": 77,
          "metadata": {},
          "output_type": "execute_result"
        }
      ],
      "source": [
        "# 그럼 bias는 모든 노드들이 똑같을까?\n",
        "\n",
        "bias_first_output = network(inputs)[0] # bias가 존재하는 인공 신경망의 첫번째 출력값 \n",
        "nobias_first_output = network_nobias(inputs)[0] # bias가 존재하지 않는 인공 신경망의 첫번째 출력값 \n",
        "bias_first_output - nobias_first_output # 첫번째 노드의 bias 값"
      ]
    },
    {
      "cell_type": "code",
      "execution_count": null,
      "id": "138d2c3a",
      "metadata": {
        "id": "138d2c3a",
        "outputId": "9719f00d-5e3d-4baa-f551-d1da2a87a05d"
      },
      "outputs": [
        {
          "data": {
            "text/plain": [
              "tensor(0.2436, grad_fn=<SubBackward0>)"
            ]
          },
          "execution_count": 79,
          "metadata": {},
          "output_type": "execute_result"
        }
      ],
      "source": [
        "network(inputs)[1] - network_nobias(inputs)[1] # 노드별로 bias가 다른것을 확인할 수 있음"
      ]
    },
    {
      "cell_type": "markdown",
      "id": "872f9ee1",
      "metadata": {
        "id": "872f9ee1"
      },
      "source": [
        "### 순전파 실습 : 활성화 함수의 적용"
      ]
    },
    {
      "cell_type": "code",
      "execution_count": null,
      "id": "aa5b04d8",
      "metadata": {
        "id": "aa5b04d8",
        "outputId": "04e78d20-ad55-4c14-a73e-5bc7935b7778"
      },
      "outputs": [
        {
          "data": {
            "text/plain": [
              "Linear(in_features=3, out_features=7, bias=True)"
            ]
          },
          "execution_count": 80,
          "metadata": {},
          "output_type": "execute_result"
        }
      ],
      "source": [
        "# 앞서 만들어 놓았던 bias가 존재하는 인공 신경망을 그대로 가져오기\n",
        "network"
      ]
    },
    {
      "cell_type": "code",
      "execution_count": null,
      "id": "a37eda88",
      "metadata": {
        "id": "a37eda88"
      },
      "outputs": [],
      "source": [
        "# sigmoid 함수를 활성화 함수로 사용하기 위해 구현하기 \n",
        "\n",
        "def sigmoid(x):\n",
        "    return 1/(1+np.exp(-x)) # sigmoid 함수의 수식"
      ]
    },
    {
      "cell_type": "code",
      "execution_count": null,
      "id": "e0d4b03d",
      "metadata": {
        "id": "e0d4b03d",
        "outputId": "1155ffd3-ba75-4e9d-8cfd-09ab22d9de3a"
      },
      "outputs": [
        {
          "ename": "RuntimeError",
          "evalue": "Can't call numpy() on Tensor that requires grad. Use tensor.detach().numpy() instead.",
          "output_type": "error",
          "traceback": [
            "\u001b[1;31m---------------------------------------------------------------------------\u001b[0m",
            "\u001b[1;31mRuntimeError\u001b[0m                              Traceback (most recent call last)",
            "\u001b[1;32m~\\AppData\\Local\\Temp/ipykernel_18844/1720608710.py\u001b[0m in \u001b[0;36m<module>\u001b[1;34m\u001b[0m\n\u001b[0;32m      1\u001b[0m \u001b[0moutputs\u001b[0m \u001b[1;33m=\u001b[0m \u001b[0mnetwork\u001b[0m\u001b[1;33m(\u001b[0m\u001b[0minputs\u001b[0m\u001b[1;33m)\u001b[0m \u001b[1;31m# 인공 신경망의 출력값을 변수로 할당\u001b[0m\u001b[1;33m\u001b[0m\u001b[1;33m\u001b[0m\u001b[0m\n\u001b[1;32m----> 2\u001b[1;33m \u001b[0msigmoid\u001b[0m\u001b[1;33m(\u001b[0m\u001b[0moutputs\u001b[0m\u001b[1;33m)\u001b[0m \u001b[1;31m# sigmoid 함수를 구현할때 np.exp라는 numpy의 메소드를 사용했기 때문에 작동하지 않음\u001b[0m\u001b[1;33m\u001b[0m\u001b[1;33m\u001b[0m\u001b[0m\n\u001b[0m",
            "\u001b[1;32m~\\AppData\\Local\\Temp/ipykernel_18844/920018785.py\u001b[0m in \u001b[0;36msigmoid\u001b[1;34m(x)\u001b[0m\n\u001b[0;32m      2\u001b[0m \u001b[1;33m\u001b[0m\u001b[0m\n\u001b[0;32m      3\u001b[0m \u001b[1;32mdef\u001b[0m \u001b[0msigmoid\u001b[0m\u001b[1;33m(\u001b[0m\u001b[0mx\u001b[0m\u001b[1;33m)\u001b[0m\u001b[1;33m:\u001b[0m\u001b[1;33m\u001b[0m\u001b[1;33m\u001b[0m\u001b[0m\n\u001b[1;32m----> 4\u001b[1;33m     \u001b[1;32mreturn\u001b[0m \u001b[1;36m1\u001b[0m\u001b[1;33m/\u001b[0m\u001b[1;33m(\u001b[0m\u001b[1;36m1\u001b[0m\u001b[1;33m+\u001b[0m\u001b[0mnp\u001b[0m\u001b[1;33m.\u001b[0m\u001b[0mexp\u001b[0m\u001b[1;33m(\u001b[0m\u001b[1;33m-\u001b[0m\u001b[0mx\u001b[0m\u001b[1;33m)\u001b[0m\u001b[1;33m)\u001b[0m \u001b[1;31m# sigmoid 함수의 수식\u001b[0m\u001b[1;33m\u001b[0m\u001b[1;33m\u001b[0m\u001b[0m\n\u001b[0m",
            "\u001b[1;32m~\\anaconda3\\envs\\taeoowl\\lib\\site-packages\\torch\\_tensor.py\u001b[0m in \u001b[0;36m__array__\u001b[1;34m(self, dtype)\u001b[0m\n\u001b[0;32m    676\u001b[0m             \u001b[1;32mreturn\u001b[0m \u001b[0mhandle_torch_function\u001b[0m\u001b[1;33m(\u001b[0m\u001b[0mTensor\u001b[0m\u001b[1;33m.\u001b[0m\u001b[0m__array__\u001b[0m\u001b[1;33m,\u001b[0m \u001b[1;33m(\u001b[0m\u001b[0mself\u001b[0m\u001b[1;33m,\u001b[0m\u001b[1;33m)\u001b[0m\u001b[1;33m,\u001b[0m \u001b[0mself\u001b[0m\u001b[1;33m,\u001b[0m \u001b[0mdtype\u001b[0m\u001b[1;33m=\u001b[0m\u001b[0mdtype\u001b[0m\u001b[1;33m)\u001b[0m\u001b[1;33m\u001b[0m\u001b[1;33m\u001b[0m\u001b[0m\n\u001b[0;32m    677\u001b[0m         \u001b[1;32mif\u001b[0m \u001b[0mdtype\u001b[0m \u001b[1;32mis\u001b[0m \u001b[1;32mNone\u001b[0m\u001b[1;33m:\u001b[0m\u001b[1;33m\u001b[0m\u001b[1;33m\u001b[0m\u001b[0m\n\u001b[1;32m--> 678\u001b[1;33m             \u001b[1;32mreturn\u001b[0m \u001b[0mself\u001b[0m\u001b[1;33m.\u001b[0m\u001b[0mnumpy\u001b[0m\u001b[1;33m(\u001b[0m\u001b[1;33m)\u001b[0m\u001b[1;33m\u001b[0m\u001b[1;33m\u001b[0m\u001b[0m\n\u001b[0m\u001b[0;32m    679\u001b[0m         \u001b[1;32melse\u001b[0m\u001b[1;33m:\u001b[0m\u001b[1;33m\u001b[0m\u001b[1;33m\u001b[0m\u001b[0m\n\u001b[0;32m    680\u001b[0m             \u001b[1;32mreturn\u001b[0m \u001b[0mself\u001b[0m\u001b[1;33m.\u001b[0m\u001b[0mnumpy\u001b[0m\u001b[1;33m(\u001b[0m\u001b[1;33m)\u001b[0m\u001b[1;33m.\u001b[0m\u001b[0mastype\u001b[0m\u001b[1;33m(\u001b[0m\u001b[0mdtype\u001b[0m\u001b[1;33m,\u001b[0m \u001b[0mcopy\u001b[0m\u001b[1;33m=\u001b[0m\u001b[1;32mFalse\u001b[0m\u001b[1;33m)\u001b[0m\u001b[1;33m\u001b[0m\u001b[1;33m\u001b[0m\u001b[0m\n",
            "\u001b[1;31mRuntimeError\u001b[0m: Can't call numpy() on Tensor that requires grad. Use tensor.detach().numpy() instead."
          ]
        }
      ],
      "source": [
        "outputs = network(inputs) # 인공 신경망의 출력값을 변수로 할당\n",
        "sigmoid(outputs) # sigmoid 함수를 구현할때 np.exp라는 numpy의 메소드를 사용했기 때문에 작동하지 않음"
      ]
    },
    {
      "cell_type": "code",
      "execution_count": null,
      "id": "5eaa5bd9",
      "metadata": {
        "scrolled": true,
        "id": "5eaa5bd9",
        "outputId": "c49a1efe-9229-495e-9b2e-32806a4064d2"
      },
      "outputs": [
        {
          "data": {
            "text/plain": [
              "tensor([0.5078, 0.5977, 0.3796, 0.6111, 0.5548, 0.4438, 0.6064],\n",
              "       grad_fn=<MulBackward0>)"
            ]
          },
          "execution_count": 89,
          "metadata": {},
          "output_type": "execute_result"
        }
      ],
      "source": [
        "def sigmoid_torch(x):\n",
        "    return 1/(1+torch.exp(-x)) # np.exp를 torch.exp로 변경\n",
        "\n",
        "sigmoid_torch(outputs) # 잘 작동되는 것을 확인"
      ]
    },
    {
      "cell_type": "code",
      "execution_count": null,
      "id": "a8478244",
      "metadata": {
        "id": "a8478244",
        "outputId": "14df5b61-a474-4682-b2c0-dbce99a73bbc",
        "colab": {
          "base_uri": "https://localhost:8080/",
          "height": 227
        }
      },
      "outputs": [
        {
          "output_type": "error",
          "ename": "NameError",
          "evalue": "ignored",
          "traceback": [
            "\u001b[0;31m---------------------------------------------------------------------------\u001b[0m",
            "\u001b[0;31mNameError\u001b[0m                                 Traceback (most recent call last)",
            "\u001b[0;32m<ipython-input-1-726e2585a0d3>\u001b[0m in \u001b[0;36m<module>\u001b[0;34m\u001b[0m\n\u001b[0;32m----> 1\u001b[0;31m \u001b[0mouputs_nograd\u001b[0m \u001b[0;34m=\u001b[0m \u001b[0moutputs\u001b[0m\u001b[0;34m.\u001b[0m\u001b[0mdetach\u001b[0m\u001b[0;34m(\u001b[0m\u001b[0;34m)\u001b[0m \u001b[0;31m# 역전파 과정에 필요하기 때문에 tensor에 저장되어있던 기울기를 제거\u001b[0m\u001b[0;34m\u001b[0m\u001b[0;34m\u001b[0m\u001b[0m\n\u001b[0m\u001b[1;32m      2\u001b[0m \u001b[0msigmoid\u001b[0m\u001b[0;34m(\u001b[0m\u001b[0mouputs_nograd\u001b[0m\u001b[0;34m.\u001b[0m\u001b[0mnumpy\u001b[0m\u001b[0;34m(\u001b[0m\u001b[0;34m)\u001b[0m\u001b[0;34m)\u001b[0m \u001b[0;31m# tensor를 array로 변환하면 기존에 np.exp로 만들어 두었던 sigmoid 함수가 잘 작동되는 것을 확인\u001b[0m\u001b[0;34m\u001b[0m\u001b[0;34m\u001b[0m\u001b[0m\n",
            "\u001b[0;31mNameError\u001b[0m: name 'outputs' is not defined"
          ]
        }
      ],
      "source": [
        "ouputs_nograd = outputs.detach() # 역전파 과정에 필요하기 때문에 tensor에 저장되어있던 기울기를 제거\n",
        "sigmoid(ouputs_nograd.numpy()) # tensor를 array로 변환하면 기존에 np.exp로 만들어 두었던 sigmoid 함수가 잘 작동되는 것을 확인"
      ]
    },
    {
      "cell_type": "code",
      "execution_count": null,
      "id": "89e56181",
      "metadata": {
        "id": "89e56181",
        "outputId": "fae86397-410a-4a7d-f369-99342fb43a96"
      },
      "outputs": [
        {
          "data": {
            "text/plain": [
              "array([0.5078, 0.5977, 0.3796, 0.6111, 0.5548, 0.4438, 0.6064],\n",
              "      dtype=float32)"
            ]
          },
          "execution_count": 101,
          "metadata": {},
          "output_type": "execute_result"
        }
      ],
      "source": [
        "np.round(sigmoid(ouputs_nograd.numpy()), 4) # 완벽한 재현을 위해서 반올림"
      ]
    },
    {
      "cell_type": "code",
      "execution_count": null,
      "id": "5dca7be8",
      "metadata": {
        "id": "5dca7be8",
        "outputId": "e4e15f39-3701-4a32-cd98-33a54f8ff66a"
      },
      "outputs": [
        {
          "data": {
            "text/plain": [
              "tensor([0.5078, 0.5977, 0.3796, 0.6111, 0.5548, 0.4438, 0.6064],\n",
              "       grad_fn=<SigmoidBackward0>)"
            ]
          },
          "execution_count": 104,
          "metadata": {},
          "output_type": "execute_result"
        }
      ],
      "source": [
        "# pytorch에 있는 메소드를 사용하면 훨씬 쉽게 구현이 가능하다\n",
        "\n",
        "sig_act_func = nn.Sigmoid() # 따로 함수를 만들어줄 필요가 없음\n",
        "sig_act_func(outputs)"
      ]
    },
    {
      "cell_type": "code",
      "execution_count": null,
      "id": "626fa312",
      "metadata": {
        "id": "626fa312"
      },
      "outputs": [],
      "source": [
        "# pytorch를 사용하면 이 과정을 한번에 수행하는 인공 신경망을 구현 가능 \n",
        "torch.manual_seed(1017)\n",
        "\n",
        "total_network = nn.Sequential(  # 여러 layer를 한번에 묶어주는 pytorch의 메소드\n",
        "    nn.Linear(3, 7), \n",
        "    nn.Sigmoid()\n",
        ")"
      ]
    },
    {
      "cell_type": "code",
      "execution_count": null,
      "id": "e1cff38d",
      "metadata": {
        "id": "e1cff38d",
        "outputId": "9b44eeb1-f1dc-4db3-8a52-2152f5ef78ac"
      },
      "outputs": [
        {
          "data": {
            "text/plain": [
              "tensor([0.5078, 0.5977, 0.3796, 0.6111, 0.5548, 0.4438, 0.6064],\n",
              "       grad_fn=<SigmoidBackward0>)"
            ]
          },
          "execution_count": 109,
          "metadata": {},
          "output_type": "execute_result"
        }
      ],
      "source": [
        "total_network(inputs)"
      ]
    },
    {
      "cell_type": "markdown",
      "id": "b4f67be8",
      "metadata": {
        "id": "b4f67be8"
      },
      "source": [
        "### 활성화 함수의 효과 확인하기 : 비선형성 증가"
      ]
    },
    {
      "cell_type": "code",
      "execution_count": null,
      "id": "51e06602",
      "metadata": {
        "id": "51e06602"
      },
      "outputs": [],
      "source": [
        "### 데이터 불러오기\n",
        "\n",
        "from sklearn.datasets import load_iris\n",
        "\n",
        "iris = load_iris()\n",
        "iris_data = iris['data']\n",
        "iris_label = iris['target'] # 실제 데이터의 label를 가져오기\n",
        "iris_colname = iris['feature_names']"
      ]
    },
    {
      "cell_type": "code",
      "execution_count": null,
      "id": "07bcf889",
      "metadata": {
        "id": "07bcf889",
        "outputId": "4fdc8a8b-0f00-4915-d3ae-d2a4b824fc11"
      },
      "outputs": [
        {
          "name": "stdout",
          "output_type": "stream",
          "text": [
            "(150, 4) (150,)\n"
          ]
        }
      ],
      "source": [
        "print(iris_data.shape, iris_label.shape) # label data의 경우 column이 따로 부여되지 않음"
      ]
    },
    {
      "cell_type": "code",
      "execution_count": null,
      "id": "20675e50",
      "metadata": {
        "id": "20675e50",
        "outputId": "7bd2deb8-2a2b-42be-9609-208f29d63ace"
      },
      "outputs": [
        {
          "data": {
            "text/html": [
              "<div>\n",
              "<style scoped>\n",
              "    .dataframe tbody tr th:only-of-type {\n",
              "        vertical-align: middle;\n",
              "    }\n",
              "\n",
              "    .dataframe tbody tr th {\n",
              "        vertical-align: top;\n",
              "    }\n",
              "\n",
              "    .dataframe thead th {\n",
              "        text-align: right;\n",
              "    }\n",
              "</style>\n",
              "<table border=\"1\" class=\"dataframe\">\n",
              "  <thead>\n",
              "    <tr style=\"text-align: right;\">\n",
              "      <th></th>\n",
              "      <th>sepal length (cm)</th>\n",
              "      <th>sepal width (cm)</th>\n",
              "      <th>petal length (cm)</th>\n",
              "      <th>petal width (cm)</th>\n",
              "      <th>label</th>\n",
              "    </tr>\n",
              "  </thead>\n",
              "  <tbody>\n",
              "    <tr>\n",
              "      <th>0</th>\n",
              "      <td>5.1</td>\n",
              "      <td>3.5</td>\n",
              "      <td>1.4</td>\n",
              "      <td>0.2</td>\n",
              "      <td>0.0</td>\n",
              "    </tr>\n",
              "    <tr>\n",
              "      <th>1</th>\n",
              "      <td>4.9</td>\n",
              "      <td>3.0</td>\n",
              "      <td>1.4</td>\n",
              "      <td>0.2</td>\n",
              "      <td>0.0</td>\n",
              "    </tr>\n",
              "    <tr>\n",
              "      <th>2</th>\n",
              "      <td>4.7</td>\n",
              "      <td>3.2</td>\n",
              "      <td>1.3</td>\n",
              "      <td>0.2</td>\n",
              "      <td>0.0</td>\n",
              "    </tr>\n",
              "    <tr>\n",
              "      <th>3</th>\n",
              "      <td>4.6</td>\n",
              "      <td>3.1</td>\n",
              "      <td>1.5</td>\n",
              "      <td>0.2</td>\n",
              "      <td>0.0</td>\n",
              "    </tr>\n",
              "    <tr>\n",
              "      <th>4</th>\n",
              "      <td>5.0</td>\n",
              "      <td>3.6</td>\n",
              "      <td>1.4</td>\n",
              "      <td>0.2</td>\n",
              "      <td>0.0</td>\n",
              "    </tr>\n",
              "    <tr>\n",
              "      <th>...</th>\n",
              "      <td>...</td>\n",
              "      <td>...</td>\n",
              "      <td>...</td>\n",
              "      <td>...</td>\n",
              "      <td>...</td>\n",
              "    </tr>\n",
              "    <tr>\n",
              "      <th>145</th>\n",
              "      <td>6.7</td>\n",
              "      <td>3.0</td>\n",
              "      <td>5.2</td>\n",
              "      <td>2.3</td>\n",
              "      <td>2.0</td>\n",
              "    </tr>\n",
              "    <tr>\n",
              "      <th>146</th>\n",
              "      <td>6.3</td>\n",
              "      <td>2.5</td>\n",
              "      <td>5.0</td>\n",
              "      <td>1.9</td>\n",
              "      <td>2.0</td>\n",
              "    </tr>\n",
              "    <tr>\n",
              "      <th>147</th>\n",
              "      <td>6.5</td>\n",
              "      <td>3.0</td>\n",
              "      <td>5.2</td>\n",
              "      <td>2.0</td>\n",
              "      <td>2.0</td>\n",
              "    </tr>\n",
              "    <tr>\n",
              "      <th>148</th>\n",
              "      <td>6.2</td>\n",
              "      <td>3.4</td>\n",
              "      <td>5.4</td>\n",
              "      <td>2.3</td>\n",
              "      <td>2.0</td>\n",
              "    </tr>\n",
              "    <tr>\n",
              "      <th>149</th>\n",
              "      <td>5.9</td>\n",
              "      <td>3.0</td>\n",
              "      <td>5.1</td>\n",
              "      <td>1.8</td>\n",
              "      <td>2.0</td>\n",
              "    </tr>\n",
              "  </tbody>\n",
              "</table>\n",
              "<p>150 rows × 5 columns</p>\n",
              "</div>"
            ],
            "text/plain": [
              "     sepal length (cm)  sepal width (cm)  petal length (cm)  petal width (cm)  \\\n",
              "0                  5.1               3.5                1.4               0.2   \n",
              "1                  4.9               3.0                1.4               0.2   \n",
              "2                  4.7               3.2                1.3               0.2   \n",
              "3                  4.6               3.1                1.5               0.2   \n",
              "4                  5.0               3.6                1.4               0.2   \n",
              "..                 ...               ...                ...               ...   \n",
              "145                6.7               3.0                5.2               2.3   \n",
              "146                6.3               2.5                5.0               1.9   \n",
              "147                6.5               3.0                5.2               2.0   \n",
              "148                6.2               3.4                5.4               2.3   \n",
              "149                5.9               3.0                5.1               1.8   \n",
              "\n",
              "     label  \n",
              "0      0.0  \n",
              "1      0.0  \n",
              "2      0.0  \n",
              "3      0.0  \n",
              "4      0.0  \n",
              "..     ...  \n",
              "145    2.0  \n",
              "146    2.0  \n",
              "147    2.0  \n",
              "148    2.0  \n",
              "149    2.0  \n",
              "\n",
              "[150 rows x 5 columns]"
            ]
          },
          "execution_count": 146,
          "metadata": {},
          "output_type": "execute_result"
        }
      ],
      "source": [
        "iris_labeldata = np.hstack([iris_data, iris_label.reshape(-1, 1)]) # reshape을 통해 column 차원을 부여하고, horizon 방향으로 합쳐줌\n",
        "iris_df = pd.DataFrame(iris_labeldata, columns=iris_colname + ['label']) # iris_colname의 경우 label이 없으므로 추가\n",
        "iris_df # pandas의 dataframe 형태로 만들어서 출력"
      ]
    },
    {
      "cell_type": "code",
      "execution_count": null,
      "id": "9fab1581",
      "metadata": {
        "id": "9fab1581",
        "outputId": "1fe408f7-e44f-4f76-b22f-a55f87542903"
      },
      "outputs": [
        {
          "data": {
            "text/html": [
              "<div>\n",
              "<style scoped>\n",
              "    .dataframe tbody tr th:only-of-type {\n",
              "        vertical-align: middle;\n",
              "    }\n",
              "\n",
              "    .dataframe tbody tr th {\n",
              "        vertical-align: top;\n",
              "    }\n",
              "\n",
              "    .dataframe thead th {\n",
              "        text-align: right;\n",
              "    }\n",
              "</style>\n",
              "<table border=\"1\" class=\"dataframe\">\n",
              "  <thead>\n",
              "    <tr style=\"text-align: right;\">\n",
              "      <th></th>\n",
              "      <th>sepal length (cm)</th>\n",
              "      <th>petal length (cm)</th>\n",
              "    </tr>\n",
              "  </thead>\n",
              "  <tbody>\n",
              "    <tr>\n",
              "      <th>0</th>\n",
              "      <td>5.1</td>\n",
              "      <td>1.4</td>\n",
              "    </tr>\n",
              "    <tr>\n",
              "      <th>1</th>\n",
              "      <td>4.9</td>\n",
              "      <td>1.4</td>\n",
              "    </tr>\n",
              "    <tr>\n",
              "      <th>2</th>\n",
              "      <td>4.7</td>\n",
              "      <td>1.3</td>\n",
              "    </tr>\n",
              "    <tr>\n",
              "      <th>3</th>\n",
              "      <td>4.6</td>\n",
              "      <td>1.5</td>\n",
              "    </tr>\n",
              "    <tr>\n",
              "      <th>4</th>\n",
              "      <td>5.0</td>\n",
              "      <td>1.4</td>\n",
              "    </tr>\n",
              "    <tr>\n",
              "      <th>...</th>\n",
              "      <td>...</td>\n",
              "      <td>...</td>\n",
              "    </tr>\n",
              "    <tr>\n",
              "      <th>145</th>\n",
              "      <td>6.7</td>\n",
              "      <td>5.2</td>\n",
              "    </tr>\n",
              "    <tr>\n",
              "      <th>146</th>\n",
              "      <td>6.3</td>\n",
              "      <td>5.0</td>\n",
              "    </tr>\n",
              "    <tr>\n",
              "      <th>147</th>\n",
              "      <td>6.5</td>\n",
              "      <td>5.2</td>\n",
              "    </tr>\n",
              "    <tr>\n",
              "      <th>148</th>\n",
              "      <td>6.2</td>\n",
              "      <td>5.4</td>\n",
              "    </tr>\n",
              "    <tr>\n",
              "      <th>149</th>\n",
              "      <td>5.9</td>\n",
              "      <td>5.1</td>\n",
              "    </tr>\n",
              "  </tbody>\n",
              "</table>\n",
              "<p>150 rows × 2 columns</p>\n",
              "</div>"
            ],
            "text/plain": [
              "     sepal length (cm)  petal length (cm)\n",
              "0                  5.1                1.4\n",
              "1                  4.9                1.4\n",
              "2                  4.7                1.3\n",
              "3                  4.6                1.5\n",
              "4                  5.0                1.4\n",
              "..                 ...                ...\n",
              "145                6.7                5.2\n",
              "146                6.3                5.0\n",
              "147                6.5                5.2\n",
              "148                6.2                5.4\n",
              "149                5.9                5.1\n",
              "\n",
              "[150 rows x 2 columns]"
            ]
          },
          "execution_count": 151,
          "metadata": {},
          "output_type": "execute_result"
        }
      ],
      "source": [
        "iris_df.iloc[:, [0,2]]"
      ]
    },
    {
      "cell_type": "code",
      "execution_count": null,
      "id": "1dd57e59",
      "metadata": {
        "id": "1dd57e59",
        "outputId": "55dac24e-4c64-40f7-da45-071eae4206e8"
      },
      "outputs": [
        {
          "data": {
            "text/html": [
              "<div>\n",
              "<style scoped>\n",
              "    .dataframe tbody tr th:only-of-type {\n",
              "        vertical-align: middle;\n",
              "    }\n",
              "\n",
              "    .dataframe tbody tr th {\n",
              "        vertical-align: top;\n",
              "    }\n",
              "\n",
              "    .dataframe thead th {\n",
              "        text-align: right;\n",
              "    }\n",
              "</style>\n",
              "<table border=\"1\" class=\"dataframe\">\n",
              "  <thead>\n",
              "    <tr style=\"text-align: right;\">\n",
              "      <th></th>\n",
              "      <th>sepal length (cm)</th>\n",
              "      <th>petal length (cm)</th>\n",
              "      <th>label</th>\n",
              "    </tr>\n",
              "  </thead>\n",
              "  <tbody>\n",
              "    <tr>\n",
              "      <th>0</th>\n",
              "      <td>5.1</td>\n",
              "      <td>1.4</td>\n",
              "      <td>0.0</td>\n",
              "    </tr>\n",
              "    <tr>\n",
              "      <th>1</th>\n",
              "      <td>4.9</td>\n",
              "      <td>1.4</td>\n",
              "      <td>0.0</td>\n",
              "    </tr>\n",
              "    <tr>\n",
              "      <th>2</th>\n",
              "      <td>4.7</td>\n",
              "      <td>1.3</td>\n",
              "      <td>0.0</td>\n",
              "    </tr>\n",
              "    <tr>\n",
              "      <th>3</th>\n",
              "      <td>4.6</td>\n",
              "      <td>1.5</td>\n",
              "      <td>0.0</td>\n",
              "    </tr>\n",
              "    <tr>\n",
              "      <th>4</th>\n",
              "      <td>5.0</td>\n",
              "      <td>1.4</td>\n",
              "      <td>0.0</td>\n",
              "    </tr>\n",
              "    <tr>\n",
              "      <th>...</th>\n",
              "      <td>...</td>\n",
              "      <td>...</td>\n",
              "      <td>...</td>\n",
              "    </tr>\n",
              "    <tr>\n",
              "      <th>145</th>\n",
              "      <td>6.7</td>\n",
              "      <td>5.2</td>\n",
              "      <td>2.0</td>\n",
              "    </tr>\n",
              "    <tr>\n",
              "      <th>146</th>\n",
              "      <td>6.3</td>\n",
              "      <td>5.0</td>\n",
              "      <td>2.0</td>\n",
              "    </tr>\n",
              "    <tr>\n",
              "      <th>147</th>\n",
              "      <td>6.5</td>\n",
              "      <td>5.2</td>\n",
              "      <td>2.0</td>\n",
              "    </tr>\n",
              "    <tr>\n",
              "      <th>148</th>\n",
              "      <td>6.2</td>\n",
              "      <td>5.4</td>\n",
              "      <td>2.0</td>\n",
              "    </tr>\n",
              "    <tr>\n",
              "      <th>149</th>\n",
              "      <td>5.9</td>\n",
              "      <td>5.1</td>\n",
              "      <td>2.0</td>\n",
              "    </tr>\n",
              "  </tbody>\n",
              "</table>\n",
              "<p>150 rows × 3 columns</p>\n",
              "</div>"
            ],
            "text/plain": [
              "     sepal length (cm)  petal length (cm)  label\n",
              "0                  5.1                1.4    0.0\n",
              "1                  4.9                1.4    0.0\n",
              "2                  4.7                1.3    0.0\n",
              "3                  4.6                1.5    0.0\n",
              "4                  5.0                1.4    0.0\n",
              "..                 ...                ...    ...\n",
              "145                6.7                5.2    2.0\n",
              "146                6.3                5.0    2.0\n",
              "147                6.5                5.2    2.0\n",
              "148                6.2                5.4    2.0\n",
              "149                5.9                5.1    2.0\n",
              "\n",
              "[150 rows x 3 columns]"
            ]
          },
          "execution_count": 161,
          "metadata": {},
          "output_type": "execute_result"
        }
      ],
      "source": [
        "iris_length = iris_df.iloc[:, [0, 2, 4]] # 이해하기 쉬운 그림을 그리기 위해서 변수를 2개로 줄임\n"
      ]
    },
    {
      "cell_type": "code",
      "execution_count": null,
      "id": "63622551",
      "metadata": {
        "id": "63622551",
        "outputId": "5ce14130-f86f-4e76-f7ca-d7815f0473c7"
      },
      "outputs": [
        {
          "data": {
            "text/plain": [
              "<matplotlib.collections.PathCollection at 0x2542f352348>"
            ]
          },
          "execution_count": 169,
          "metadata": {},
          "output_type": "execute_result"
        },
        {
          "data": {
            "image/png": "[encoded data removed]",
            "text/plain": [
              "<Figure size 432x288 with 1 Axes>"
            ]
          },
          "metadata": {
            "needs_background": "light"
          },
          "output_type": "display_data"
        }
      ],
      "source": [
        "import matplotlib.pyplot as plt \n",
        "\n",
        "plt.scatter(iris_length['sepal length (cm)'], iris_length['petal length (cm)'], c=iris_length['label']) #"
      ]
    },
    {
      "cell_type": "code",
      "execution_count": null,
      "id": "641ddd1f",
      "metadata": {
        "id": "641ddd1f",
        "outputId": "34793eb4-bc2a-4d0d-e49a-ab37c34a7112"
      },
      "outputs": [
        {
          "data": {
            "text/plain": [
              "<matplotlib.collections.PathCollection at 0x25430b0b148>"
            ]
          },
          "execution_count": 177,
          "metadata": {},
          "output_type": "execute_result"
        },
        {
          "data": {
            "image/png": "[encoded data removed]",
            "text/plain": [
              "<Figure size 432x288 with 1 Axes>"
            ]
          },
          "metadata": {
            "needs_background": "light"
          },
          "output_type": "display_data"
        }
      ],
      "source": [
        "sig_iris = sigmoid(iris_length.iloc[:, 0:2])\n",
        "plt.scatter(sig_iris['sepal length (cm)'], sig_iris['petal length (cm)'],  c=iris_length['label']) \n",
        "\n",
        "# 단순히 한번 sigmoid 함수를 먹였다고 해서 선형으로 분리는 되지 않지만\n",
        "# 데이터의 입력 공간에 변화가 생긴 것을 확인할 수 있음\n",
        "# -> 즉, 활성화 함수는 데이터 입력 공간의 변화를 가져오고(비선형성 부여)\n",
        "# 여기에 추가적으로 가중치 부여 및 여러번의 활성화 함수를 거치면 복잡한 데이터 공간도 최대한 직선으로 분리가 가능하게 됨"
      ]
    }
  ],
  "metadata": {
    "kernelspec": {
      "display_name": "taeoowl",
      "language": "python",
      "name": "taeoowl"
    },
    "language_info": {
      "codemirror_mode": {
        "name": "ipython",
        "version": 3
      },
      "file_extension": ".py",
      "mimetype": "text/x-python",
      "name": "python",
      "nbconvert_exporter": "python",
      "pygments_lexer": "ipython3",
      "version": "3.7.11"
    },
    "colab": {
      "provenance": [],
      "include_colab_link": true
    }
  },
  "nbformat": 4,
  "nbformat_minor": 5
}