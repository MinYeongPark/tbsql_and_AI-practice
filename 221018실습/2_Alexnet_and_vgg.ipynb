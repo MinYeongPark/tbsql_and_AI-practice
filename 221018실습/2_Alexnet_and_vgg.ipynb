{
  "nbformat": 4,
  "nbformat_minor": 0,
  "metadata": {
    "colab": {
      "provenance": [],
      "collapsed_sections": [],
      "authorship_tag": "ABX9TyN9woVPoXb5RYEfZw0WdIAp",
      "include_colab_link": true
    },
    "kernelspec": {
      "name": "python3",
      "display_name": "Python 3"
    },
    "language_info": {
      "name": "python"
    },
    "accelerator": "GPU"
  },
  "cells": [
    {
      "cell_type": "markdown",
      "metadata": {
        "id": "view-in-github",
        "colab_type": "text"
      },
      "source": [
        "<a href=\"https://colab.research.google.com/github/MinYeongPark/AI_practice/blob/main/2_Alexnet_and_vgg.ipynb\" target=\"_parent\"><img src=\"https://colab.research.google.com/assets/colab-badge.svg\" alt=\"Open In Colab\"/></a>"
      ]
    },
    {
      "cell_type": "markdown",
      "source": [
        "# AlexNet"
      ],
      "metadata": {
        "id": "E5vlJBfugmSJ"
      }
    },
    {
      "cell_type": "code",
      "execution_count": null,
      "metadata": {
        "colab": {
          "base_uri": "https://localhost:8080/"
        },
        "id": "yGcXuak4gjfM",
        "outputId": "d47bc9d2-eecb-4fe1-921b-f18dfd199938"
      },
      "outputs": [
        {
          "output_type": "execute_result",
          "data": {
            "text/plain": [
              "True"
            ]
          },
          "metadata": {},
          "execution_count": 5
        }
      ],
      "source": [
        "# 런타임 - 런타임 유형 변경 - GPU로 변경하기\n",
        "import torch\n",
        "\n",
        "device = torch.device('cuda')\n",
        "torch.cuda.is_available() # GPU를 쓸 수 있는지"
      ]
    },
    {
      "cell_type": "code",
      "source": [
        "from torchvision.datasets import FashionMNIST\n",
        "from torchvision import transforms\n",
        "\n",
        "fasion_mnist_transform = transforms.Compose([\n",
        "    transforms.ToTensor(),\n",
        "    transforms.Resize(224)\n",
        "])\n",
        "\n",
        "# 1*28*28 -> 1*227*227\n",
        "\n",
        "download_root = './'\n",
        "\n",
        "train_dataset = FashionMNIST(download_root, transform=fasion_mnist_transform, train=True, download=True)\n",
        "test_dataset = FashionMNIST(download_root, transform=fasion_mnist_transform, train=False, download=True)"
      ],
      "metadata": {
        "id": "tRy3b0C1hOmU"
      },
      "execution_count": null,
      "outputs": []
    },
    {
      "cell_type": "code",
      "source": [
        "from torch.utils.data import DataLoader\n",
        "\n",
        "batch_size = 64\n",
        "\n",
        "train_loader = DataLoader(dataset = train_dataset, batch_size = batch_size, shuffle=True)\n",
        "test_loader = DataLoader(dataset = test_dataset, batch_size = batch_size, shuffle=True)"
      ],
      "metadata": {
        "id": "gVKCtTeIiEn5"
      },
      "execution_count": null,
      "outputs": []
    },
    {
      "cell_type": "code",
      "source": [
        "import matplotlib.pyplot as plt\n",
        "\n",
        "plt.imshow(train_dataset[23744][0][0].numpy(), cmap='gray')"
      ],
      "metadata": {
        "colab": {
          "base_uri": "https://localhost:8080/",
          "height": 287
        },
        "id": "Zu9QiMhiixyp",
        "outputId": "9c72398b-9a64-43a6-f3cc-51ea791e8316"
      },
      "execution_count": null,
      "outputs": [
        {
          "output_type": "execute_result",
          "data": {
            "text/plain": [
              "<matplotlib.image.AxesImage at 0x7f636829ef90>"
            ]
          },
          "metadata": {},
          "execution_count": 48
        },
        {
          "output_type": "display_data",
          "data": {
            "text/plain": [
              "<Figure size 432x288 with 1 Axes>"
            ],
            "image/png": "[encoded data removed]"
          },
          "metadata": {
            "needs_background": "light"
          }
        }
      ]
    },
    {
      "cell_type": "code",
      "source": [
        "from torch import nn\n",
        "\n",
        "class AlexNet(nn.Module):\n",
        "    def __init__(self):\n",
        "        super().__init__()\n",
        "        self.CNN = nn.Sequential(\n",
        "            nn.Conv2d(in_channels=1, out_channels=48, kernel_size=11, stride=4, padding=0),\n",
        "            nn.ReLU(inplace = True),\n",
        "            nn.LocalResponseNorm(size=5, k=2),\n",
        "            nn.MaxPool2d(kernel_size=3, stride=2),\n",
        "\n",
        "            nn.Conv2d(in_channels=48, out_channels=128, kernel_size=5, stride=1, padding=2),\n",
        "            nn.ReLU(inplace = True),\n",
        "            nn.LocalResponseNorm(size=5, k=2),\n",
        "            nn.MaxPool2d(kernel_size=3, stride=2),\n",
        "\n",
        "            nn.Conv2d(in_channels=128, out_channels=192, kernel_size=3, stride=1, padding=1),\n",
        "            nn.ReLU(inplace = True),\n",
        "            nn.LocalResponseNorm(size=5, k=2),\n",
        "\n",
        "            nn.Conv2d(in_channels=192, out_channels=192, kernel_size=3, stride=1, padding=1),\n",
        "            nn.ReLU(inplace = True),\n",
        "            nn.LocalResponseNorm(size=5, k=2),\n",
        "\n",
        "            nn.Conv2d(in_channels=192, out_channels=128, kernel_size=3, stride=1, padding=1),\n",
        "            nn.ReLU(inplace = True),\n",
        "            nn.LocalResponseNorm(size=5, k=2),\n",
        "            nn.MaxPool2d(kernel_size=3, stride=2)\n",
        "        )\n",
        "        self.FC = nn.Sequential(\n",
        "            nn.Linear(128*6*6, 2048), \n",
        "            nn.ReLU(True),\n",
        "            nn.Dropout(0.5), # 학습할 때 절반정도는 날리고 학습하겠다는 뜻\n",
        "\n",
        "            nn.Linear(2048, 2048), \n",
        "            nn.ReLU(True),\n",
        "            nn.Dropout(0.5),\n",
        "\n",
        "            nn.Linear(2048, 10), \n",
        "            nn.Softmax()\n",
        "        )\n",
        "\n",
        "    def forward(self, inp):\n",
        "        cnn_res = self.CNN(inp)\n",
        "        # flatten 128*6*6 -> 00000 (한 줄로 나열)\n",
        "        flatten = torch.flatten(cnn_res, 1)\n",
        "        fc_res = self.FC(flatten)\n",
        "        return fc_res"
      ],
      "metadata": {
        "id": "cNeGKxFNjEZ7"
      },
      "execution_count": null,
      "outputs": []
    },
    {
      "cell_type": "code",
      "source": [
        "from torch import optim\n",
        "\n",
        "def train(model, epochs) :\n",
        "\n",
        "    # optimizer 설정\n",
        "    optimizer = optim.Adam(model.parameters(), lr=0.0001)\n",
        "    # loss function\n",
        "    criterion = nn.CrossEntropyLoss() # classification 분류 \n",
        "\n",
        "    for epoch in range(epochs) : \n",
        "        model.train() # model을 train상태로\n",
        "        train_accuracy = 0.0\n",
        "\n",
        "        for batch_ind, samples in enumerate(train_loader):\n",
        "            x_t, y_t = samples # x는 입력, y는 출력(정답)\n",
        "            # device로 x_t, y_t 보냄\n",
        "            x_t, y_t = x_t.to(device), y_t.to(device)\n",
        "\n",
        "            # x_t 넣어서 predicted\n",
        "            pred = model(x_t)\n",
        "            \n",
        "            # predicted랑 y_t 비교\n",
        "            # 둘의 차이 = loss 계산\n",
        "            loss = criterion(pred, y_t)\n",
        "\n",
        "            # loss 값을 가지고 back-propagation weight를 업데이트\n",
        "            # optimizer가 해줍니다\n",
        "            optimizer.zero_grad() # 초기화\n",
        "            loss.backward()\n",
        "            optimizer.step()\n",
        "\n",
        "        # accuracy test form train dataset\n",
        "        model.eval() # model을 평가상태로 만듦\n",
        "        correct = 0\n",
        "        for xx, yy in train_loader:\n",
        "            data, target = xx.to(device), yy.to(device)\n",
        "            pred = model(data) # pred [0, 0, 0.1, 0.2, 0.1 .. 0] 합이 1\n",
        "            _, predicted = torch.max(pred, 1) # 높은 것 하나를 뽑아낸다\n",
        "            correct += predicted.eq(target.data).sum()\n",
        "\n",
        "        print(\"train accuracy : \", (100. * correct / len(train_loader.dataset)).item())"
      ],
      "metadata": {
        "id": "y1WAvFejnME6"
      },
      "execution_count": null,
      "outputs": []
    },
    {
      "cell_type": "markdown",
      "source": [],
      "metadata": {
        "id": "Fo94DwCDn8JJ"
      }
    },
    {
      "cell_type": "markdown",
      "source": [
        "train(model, 30) -> 알아서 학습"
      ],
      "metadata": {
        "id": "-laIyW7HnmTH"
      }
    },
    {
      "cell_type": "code",
      "source": [
        "alexnet = AlexNet()\n",
        "alexnet.to(device)\n",
        "train(alexnet, 10)"
      ],
      "metadata": {
        "colab": {
          "base_uri": "https://localhost:8080/"
        },
        "id": "44gNBAb9nheI",
        "outputId": "873e5fa5-ed4a-49ab-da30-3000773029c3"
      },
      "execution_count": null,
      "outputs": [
        {
          "output_type": "stream",
          "name": "stderr",
          "text": [
            "/usr/local/lib/python3.7/dist-packages/torch/nn/modules/container.py:139: UserWarning: Implicit dimension choice for softmax has been deprecated. Change the call to include dim=X as an argument.\n",
            "  input = module(input)\n"
          ]
        },
        {
          "output_type": "stream",
          "name": "stdout",
          "text": [
            "train accuracy :  72.30166625976562\n",
            "train accuracy :  76.37667083740234\n",
            "train accuracy :  78.19833374023438\n",
            "train accuracy :  80.08499908447266\n",
            "train accuracy :  80.66166687011719\n",
            "train accuracy :  81.24166870117188\n",
            "train accuracy :  81.79000091552734\n",
            "train accuracy :  82.21666717529297\n",
            "train accuracy :  88.39666748046875\n",
            "train accuracy :  89.45333099365234\n"
          ]
        }
      ]
    },
    {
      "cell_type": "code",
      "source": [
        "def get_n_params(model):\n",
        "    pp = 0\n",
        "    for p in list(model.parameters()):\n",
        "        nn = 1\n",
        "        for s in list(p.size()):\n",
        "            nn = nn * s\n",
        "        pp += nn\n",
        "    return pp"
      ],
      "metadata": {
        "id": "LGlFemlRn3Tt"
      },
      "execution_count": null,
      "outputs": []
    },
    {
      "cell_type": "code",
      "source": [
        "get_n_params(alexnet) # 몇개의 파라미터가 있는지 확인"
      ],
      "metadata": {
        "colab": {
          "base_uri": "https://localhost:8080/"
        },
        "id": "BUmKHPKKoILS",
        "outputId": "afb62cf1-4ed4-4a73-81bd-aae374d078a4"
      },
      "execution_count": null,
      "outputs": [
        {
          "output_type": "execute_result",
          "data": {
            "text/plain": [
              "14590314"
            ]
          },
          "metadata": {},
          "execution_count": 29
        }
      ]
    },
    {
      "cell_type": "code",
      "source": [
        "alexnet.eval() #  model을 평가상태로 만듦\n",
        "correct = 0\n",
        "for xx, yy in train_loader:\n",
        "    data, target = xx.to(device), yy.to(device)\n",
        "    pred = alexnet(data) # pred [0, 0, 0.1, 0.2, 0.1 .. 0] 합이 1\n",
        "    _, predicted = torch.max(pred, 1) # 높은 것 하나를 뽑아낸다\n",
        "    correct += predicted.eq(target.data).sum()\n",
        "\n",
        "print(\"train accuracy : \", (100. * correct / len(train_loader.dataset)).item())"
      ],
      "metadata": {
        "colab": {
          "base_uri": "https://localhost:8080/"
        },
        "id": "maPIQV-2oKhT",
        "outputId": "b99f6e12-f6f1-49ae-dfcc-925dee535032"
      },
      "execution_count": null,
      "outputs": [
        {
          "output_type": "stream",
          "name": "stdout",
          "text": [
            "train accuracy :  89.45333099365234\n"
          ]
        }
      ]
    },
    {
      "cell_type": "code",
      "source": [
        "alexnet"
      ],
      "metadata": {
        "colab": {
          "base_uri": "https://localhost:8080/"
        },
        "id": "drt-4m6Jwdf3",
        "outputId": "6ecc74bd-4449-41c6-c0b5-de0aa7eeea2b"
      },
      "execution_count": null,
      "outputs": [
        {
          "output_type": "execute_result",
          "data": {
            "text/plain": [
              "AlexNet(\n",
              "  (CNN): Sequential(\n",
              "    (0): Conv2d(1, 48, kernel_size=(11, 11), stride=(4, 4))\n",
              "    (1): ReLU(inplace=True)\n",
              "    (2): LocalResponseNorm(5, alpha=0.0001, beta=0.75, k=2)\n",
              "    (3): MaxPool2d(kernel_size=3, stride=2, padding=0, dilation=1, ceil_mode=False)\n",
              "    (4): Conv2d(48, 128, kernel_size=(5, 5), stride=(1, 1), padding=(2, 2))\n",
              "    (5): ReLU(inplace=True)\n",
              "    (6): LocalResponseNorm(5, alpha=0.0001, beta=0.75, k=2)\n",
              "    (7): MaxPool2d(kernel_size=3, stride=2, padding=0, dilation=1, ceil_mode=False)\n",
              "    (8): Conv2d(128, 192, kernel_size=(3, 3), stride=(1, 1), padding=(1, 1))\n",
              "    (9): ReLU(inplace=True)\n",
              "    (10): LocalResponseNorm(5, alpha=0.0001, beta=0.75, k=2)\n",
              "    (11): Conv2d(192, 192, kernel_size=(3, 3), stride=(1, 1), padding=(1, 1))\n",
              "    (12): ReLU(inplace=True)\n",
              "    (13): LocalResponseNorm(5, alpha=0.0001, beta=0.75, k=2)\n",
              "    (14): Conv2d(192, 128, kernel_size=(3, 3), stride=(1, 1), padding=(1, 1))\n",
              "    (15): ReLU(inplace=True)\n",
              "    (16): LocalResponseNorm(5, alpha=0.0001, beta=0.75, k=2)\n",
              "    (17): MaxPool2d(kernel_size=3, stride=2, padding=0, dilation=1, ceil_mode=False)\n",
              "  )\n",
              "  (FC): Sequential(\n",
              "    (0): Linear(in_features=4608, out_features=2048, bias=True)\n",
              "    (1): ReLU(inplace=True)\n",
              "    (2): Dropout(p=0.5, inplace=False)\n",
              "    (3): Linear(in_features=2048, out_features=2048, bias=True)\n",
              "    (4): ReLU(inplace=True)\n",
              "    (5): Dropout(p=0.5, inplace=False)\n",
              "    (6): Linear(in_features=2048, out_features=10, bias=True)\n",
              "    (7): Softmax(dim=None)\n",
              "  )\n",
              ")"
            ]
          },
          "metadata": {},
          "execution_count": 32
        }
      ]
    },
    {
      "cell_type": "markdown",
      "source": [
        "# Convolution layer를 증가시키면 성능이 증가하는가?"
      ],
      "metadata": {
        "id": "fGq4VhDdwvyo"
      }
    },
    {
      "cell_type": "code",
      "source": [
        "# Fasion MNIST\n",
        "\n",
        "class Anet(nn.Module):\n",
        "    def __init__(self):\n",
        "        super().__init__()\n",
        "        # CNN\n",
        "        self.CNN = nn.Sequential(\n",
        "            nn.Conv2d(in_channels=1, out_channels=16, kernel_size=3, stride=1, padding=1),\n",
        "            nn.ReLU(inplace = True),\n",
        "            nn.Conv2d(in_channels=16, out_channels=16, kernel_size=3, stride=1, padding=1),\n",
        "            nn.ReLU(inplace = True),\n",
        "            nn.MaxPool2d(kernel_size=2, stride=2),\n",
        "\n",
        "            nn.Conv2d(in_channels=16, out_channels=32, kernel_size=3, stride=1, padding=1),\n",
        "            nn.ReLU(inplace = True),\n",
        "            nn.Conv2d(in_channels=32, out_channels=32, kernel_size=3, stride=1, padding=1),\n",
        "            nn.ReLU(inplace = True),\n",
        "            nn.MaxPool2d(kernel_size=2, stride=2),\n",
        "\n",
        "            nn.Conv2d(in_channels=32, out_channels=64, kernel_size=3, stride=1, padding=1),\n",
        "            nn.ReLU(inplace = True),\n",
        "            nn.Conv2d(in_channels=64, out_channels=64, kernel_size=3, stride=1, padding=1),\n",
        "            nn.ReLU(inplace = True),\n",
        "            nn.Conv2d(in_channels=64, out_channels=64, kernel_size=1, stride=1, padding=1),\n",
        "            nn.ReLU(inplace = True),\n",
        "            nn.MaxPool2d(kernel_size=2, stride=2),\n",
        "        )\n",
        "\n",
        "        # FC (Fully Connected)\n",
        "        self.FC = nn.Sequential(\n",
        "            nn.Linear(64*29*29, 256),\n",
        "            nn.ReLU(True),\n",
        "            nn.Dropout(0.2),\n",
        "\n",
        "            nn.Linear(256, 64), \n",
        "            nn.ReLU(True),\n",
        "            nn.Dropout(0.2),\n",
        "\n",
        "            nn.Linear(64, 10), \n",
        "            nn.Softmax()\n",
        "        )\n",
        "\n",
        "    def forward(self, inp):\n",
        "        cnn_res = self.CNN(inp)\n",
        "        flatten = torch.flatten(cnn_res, 1)\n",
        "        fc_res = self.FC(flatten)\n",
        "        return fc_res\n",
        "    "
      ],
      "metadata": {
        "id": "w5VLLiHswp4C"
      },
      "execution_count": null,
      "outputs": []
    },
    {
      "cell_type": "code",
      "source": [
        "aaa = Anet()"
      ],
      "metadata": {
        "id": "LqE7D-VozDd8"
      },
      "execution_count": null,
      "outputs": []
    },
    {
      "cell_type": "code",
      "source": [
        "get_n_params(aaa)"
      ],
      "metadata": {
        "colab": {
          "base_uri": "https://localhost:8080/"
        },
        "id": "1fhf3RUKzggT",
        "outputId": "2ad08a20-284b-4dbd-ecaa-e141205790c6"
      },
      "execution_count": null,
      "outputs": [
        {
          "output_type": "execute_result",
          "data": {
            "text/plain": [
              "13872250"
            ]
          },
          "metadata": {},
          "execution_count": 44
        }
      ]
    },
    {
      "cell_type": "code",
      "source": [
        "aaa.to(device)\n",
        "train(aaa, 10)"
      ],
      "metadata": {
        "colab": {
          "base_uri": "https://localhost:8080/"
        },
        "id": "KfnJkiHazlUV",
        "outputId": "6fc67230-4194-480f-fc3e-0531464efdae"
      },
      "execution_count": null,
      "outputs": [
        {
          "output_type": "stream",
          "name": "stdout",
          "text": [
            "train accuracy :  78.57833099365234\n",
            "train accuracy :  81.30500030517578\n",
            "train accuracy :  83.08000183105469\n",
            "train accuracy :  83.19667053222656\n",
            "train accuracy :  84.16333770751953\n",
            "train accuracy :  87.14500427246094\n",
            "train accuracy :  88.42500305175781\n",
            "train accuracy :  88.80333709716797\n",
            "train accuracy :  89.29499816894531\n",
            "train accuracy :  89.74500274658203\n"
          ]
        }
      ]
    },
    {
      "cell_type": "code",
      "source": [],
      "metadata": {
        "id": "lKBbjoQE0OqZ"
      },
      "execution_count": null,
      "outputs": []
    }
  ]
}