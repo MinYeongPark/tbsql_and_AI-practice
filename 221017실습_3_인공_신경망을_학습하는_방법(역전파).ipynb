{
  "nbformat": 4,
  "nbformat_minor": 0,
  "metadata": {
    "colab": {
      "provenance": [],
      "collapsed_sections": [],
      "authorship_tag": "ABX9TyNO9WxrOxcUYsnS3yvLSIqr",
      "include_colab_link": true
    },
    "kernelspec": {
      "name": "python3",
      "display_name": "Python 3"
    },
    "language_info": {
      "name": "python"
    }
  },
  "cells": [
    {
      "cell_type": "markdown",
      "metadata": {
        "id": "view-in-github",
        "colab_type": "text"
      },
      "source": [
        "<a href=\"https://colab.research.google.com/github/MinYeongPark/AI_practice/blob/main/221017%EC%8B%A4%EC%8A%B5_3_%EC%9D%B8%EA%B3%B5_%EC%8B%A0%EA%B2%BD%EB%A7%9D%EC%9D%84_%ED%95%99%EC%8A%B5%ED%95%98%EB%8A%94_%EB%B0%A9%EB%B2%95(%EC%97%AD%EC%A0%84%ED%8C%8C).ipynb\" target=\"_parent\"><img src=\"https://colab.research.google.com/assets/colab-badge.svg\" alt=\"Open In Colab\"/></a>"
      ]
    },
    {
      "cell_type": "code",
      "execution_count": 1,
      "metadata": {
        "id": "ebrVABUUJ-Z_"
      },
      "outputs": [],
      "source": [
        "import numpy as np\n",
        "import pandas as pd\n",
        "\n",
        "import torch\n",
        "import torch.nn as nn"
      ]
    },
    {
      "cell_type": "markdown",
      "source": [
        "### 역전파 : 가중치 업데이트"
      ],
      "metadata": {
        "id": "EK0u3V12qDFo"
      }
    },
    {
      "cell_type": "code",
      "source": [
        "torch.manual_seed(1017)\n",
        "\n",
        "inputs = torch.randn(2,2) # 2행 2열짜리 데이터를 임시로 생성\n",
        "inputs"
      ],
      "metadata": {
        "colab": {
          "base_uri": "https://localhost:8080/"
        },
        "id": "CIWAbratK35u",
        "outputId": "6b852fcc-e27a-4c09-f7ae-2caca0c700d1"
      },
      "execution_count": 2,
      "outputs": [
        {
          "output_type": "execute_result",
          "data": {
            "text/plain": [
              "tensor([[-0.4318,  0.0749],\n",
              "        [-0.1667, -1.6542]])"
            ]
          },
          "metadata": {},
          "execution_count": 2
        }
      ]
    },
    {
      "cell_type": "code",
      "source": [
        "torch.manual_seed(777)\n",
        "\n",
        "targets = torch.rand(2) # 각 행마다 해당하는 label을 생성\n",
        "targets"
      ],
      "metadata": {
        "colab": {
          "base_uri": "https://localhost:8080/"
        },
        "id": "DR0w3ZYuLAmY",
        "outputId": "ff314093-8ed5-4e76-97eb-5f145e6cfb56"
      },
      "execution_count": 3,
      "outputs": [
        {
          "output_type": "execute_result",
          "data": {
            "text/plain": [
              "tensor([0.0819, 0.4911])"
            ]
          },
          "metadata": {},
          "execution_count": 3
        }
      ]
    },
    {
      "cell_type": "code",
      "source": [
        "# 사용할 네트워크를 생성\n",
        "\n",
        "torch.manual_seed(1017)\n",
        "\n",
        "total_network = nn.Sequential(\n",
        "    nn.Linear(2,1), \n",
        "    nn.Sigmoid()\n",
        ")\n",
        "\n",
        "total_network[0].weight"
      ],
      "metadata": {
        "colab": {
          "base_uri": "https://localhost:8080/"
        },
        "id": "kt4XM7JqLHJs",
        "outputId": "7ae2cba3-62b1-482e-d658-678ffc3cbeae"
      },
      "execution_count": 4,
      "outputs": [
        {
          "output_type": "execute_result",
          "data": {
            "text/plain": [
              "Parameter containing:\n",
              "tensor([[0.4371, 0.3060]], requires_grad=True)"
            ]
          },
          "metadata": {},
          "execution_count": 4
        }
      ]
    },
    {
      "cell_type": "code",
      "source": [
        "# 가중치 업데이트에 필요한 요소들 설정 : 뒤에가서 하나씩 살펴볼 예정, 지금은 이런게 있어야 업데이트가 되는구나 정도로 이해\n",
        "learning_rate = 0.001\n",
        "criterion = nn.MSELoss() # MSE : 정답과의 차이를 제곱\n",
        "optimizer = torch.optim.Adam(total_network.parameters(), lr = learning_rate)"
      ],
      "metadata": {
        "id": "arBJM6GcLUGC"
      },
      "execution_count": 5,
      "outputs": []
    },
    {
      "cell_type": "code",
      "source": [
        "total_network.train() # 만들어진 네트워크를 학습 모드로 설정\n",
        "\n",
        "pred = total_network(inputs) # 네트워크에 아까 생성해 두었던 2행 2열의 데이터를 입력\n",
        "print(pred) # 입력값은 행 별로 들어가고, 이에 대한 network의 결과를 출력\n",
        "\n",
        "loss = criterion(targets, pred) # network의 결과를 실제 label과 비교하여 loss를 구함\n",
        "print(loss)"
      ],
      "metadata": {
        "colab": {
          "base_uri": "https://localhost:8080/"
        },
        "id": "adQOq8R6MNAd",
        "outputId": "44320cd9-877c-4870-f6d1-ba3e485aa0a7"
      },
      "execution_count": 6,
      "outputs": [
        {
          "output_type": "stream",
          "name": "stdout",
          "text": [
            "tensor([[0.5068],\n",
            "        [0.4047]], grad_fn=<SigmoidBackward0>)\n",
            "tensor(0.0731, grad_fn=<MseLossBackward0>)\n"
          ]
        },
        {
          "output_type": "stream",
          "name": "stderr",
          "text": [
            "/usr/local/lib/python3.7/dist-packages/torch/nn/modules/loss.py:530: UserWarning: Using a target size (torch.Size([2, 1])) that is different to the input size (torch.Size([2])). This will likely lead to incorrect results due to broadcasting. Please ensure they have the same size.\n",
            "  return F.mse_loss(input, target, reduction=self.reduction)\n"
          ]
        }
      ]
    },
    {
      "cell_type": "code",
      "source": [
        "loss.backward() # loss 값을 참고해서 각 가중치에 대해서 편미분을 하겠다\n",
        "optimizer.step() # 편미분된 값과 미리 지정한 학습률을 통해 한 스텝 최적화 진행"
      ],
      "metadata": {
        "id": "9j4-_FnCMfqT"
      },
      "execution_count": 7,
      "outputs": []
    },
    {
      "cell_type": "code",
      "source": [
        "total_network[0].weight # 한번 역전파가 이루어지고 나서 모델의 가중치가 업데이트 된걸 확인 가능\n",
        "                        # 첫번째 층?을 가리키기 위해 0이라고 둠"
      ],
      "metadata": {
        "colab": {
          "base_uri": "https://localhost:8080/"
        },
        "id": "h1fuO2qrM6rf",
        "outputId": "ce18063c-b771-4c1b-d298-162231ba5b58"
      },
      "execution_count": 8,
      "outputs": [
        {
          "output_type": "execute_result",
          "data": {
            "text/plain": [
              "Parameter containing:\n",
              "tensor([[0.4381, 0.3070]], requires_grad=True)"
            ]
          },
          "metadata": {},
          "execution_count": 8
        }
      ]
    },
    {
      "cell_type": "code",
      "source": [
        "pred = total_network(inputs) \n",
        "print(pred)\n",
        "\n",
        "loss = criterion(inputs, pred) \n",
        "print(loss) # 한번 역전파가 이루어지고 나서 loss가 줄어 들은 것을 확인 "
      ],
      "metadata": {
        "id": "N5pHYQuhNHxS",
        "colab": {
          "base_uri": "https://localhost:8080/"
        },
        "outputId": "f6e79b30-e134-4bdf-d8e8-a5015d630a39"
      },
      "execution_count": 9,
      "outputs": [
        {
          "output_type": "stream",
          "name": "stdout",
          "text": [
            "tensor([[0.5064],\n",
            "        [0.4040]], grad_fn=<SigmoidBackward0>)\n",
            "tensor(1.4071, grad_fn=<MseLossBackward0>)\n"
          ]
        },
        {
          "output_type": "stream",
          "name": "stderr",
          "text": [
            "/usr/local/lib/python3.7/dist-packages/torch/nn/modules/loss.py:530: UserWarning: Using a target size (torch.Size([2, 1])) that is different to the input size (torch.Size([2, 2])). This will likely lead to incorrect results due to broadcasting. Please ensure they have the same size.\n",
            "  return F.mse_loss(input, target, reduction=self.reduction)\n"
          ]
        }
      ]
    },
    {
      "cell_type": "code",
      "source": [
        "# optimizer와 loss function에 대한 차이는 이후에"
      ],
      "metadata": {
        "id": "FGqTRSrhO68a"
      },
      "execution_count": 23,
      "outputs": []
    }
  ]
}